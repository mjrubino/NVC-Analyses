import pyodbc, pandas as pd
import pandas.io.sql as psql
import seaborn as sns
import matplotlib.pyplot as plt
